{
 "cells": [
  {
   "cell_type": "code",
   "execution_count": 30,
   "metadata": {},
   "outputs": [
    {
     "name": "stdout",
     "output_type": "stream",
     "text": [
      "Getting and resizing train images and masks ... \n"
     ]
    },
    {
     "name": "stderr",
     "output_type": "stream",
     "text": [
      "100%|████████████████████████████████████████████████████████████████████████████████| 670/670 [22:52<00:00,  2.05s/it]\n"
     ]
    },
    {
     "name": "stdout",
     "output_type": "stream",
     "text": [
      "Getting and resizing test images ... \n"
     ]
    },
    {
     "name": "stderr",
     "output_type": "stream",
     "text": [
      "100%|██████████████████████████████████████████████████████████████████████████████████| 65/65 [00:07<00:00,  8.88it/s]\n"
     ]
    },
    {
     "name": "stdout",
     "output_type": "stream",
     "text": [
      "Done!\n"
     ]
    },
    {
     "name": "stderr",
     "output_type": "stream",
     "text": [
      "C:\\Program Files\\Anaconda3\\lib\\site-packages\\skimage\\io\\_plugins\\matplotlib_plugin.py:51: FutureWarning: Conversion of the second argument of issubdtype from `float` to `np.floating` is deprecated. In future, it will be treated as `np.float64 == np.dtype(float).type`.\n",
      "  out_of_range_float = (np.issubdtype(image.dtype, np.float) and\n"
     ]
    },
    {
     "data": {
      "image/png": "[encoded data removed]",
      "text/plain": [
       "<matplotlib.figure.Figure at 0x1d18128ab38>"
      ]
     },
     "metadata": {},
     "output_type": "display_data"
    },
    {
     "data": {
      "image/png": "[encoded data removed]",
      "text/plain": [
       "<matplotlib.figure.Figure at 0x1d181452ef0>"
      ]
     },
     "metadata": {},
     "output_type": "display_data"
    }
   ],
   "source": [
    "import os\n",
    "import sys\n",
    "import random\n",
    "import warnings\n",
    "\n",
    "import numpy as np\n",
    "import pandas as pd\n",
    "\n",
    "import matplotlib.pyplot as plt\n",
    "\n",
    "from tqdm import tqdm\n",
    "from itertools import chain\n",
    "from skimage.io import imread, imshow, imread_collection, concatenate_images, imsave\n",
    "from skimage.transform import resize\n",
    "from skimage.morphology import label\n",
    "\n",
    "from keras.models import Model, load_model\n",
    "from keras.layers import Input\n",
    "from keras.layers.core import Dropout, Lambda\n",
    "from keras.layers.convolutional import Conv2D, Conv2DTranspose\n",
    "from keras.layers.pooling import MaxPooling2D\n",
    "from keras.layers.merge import concatenate\n",
    "from keras.callbacks import EarlyStopping, ModelCheckpoint\n",
    "from keras import backend as K\n",
    "\n",
    "import tensorflow as tf\n",
    "\n",
    "def resize_padded(img, channels=IMG_CHANNELS):\n",
    "    w, h = img.shape[0], img.shape[1]\n",
    "    if w != h:\n",
    "        #print(w, h)\n",
    "        dim = max([w, h])\n",
    "        if channels>0:\n",
    "            new_img = np.zeros((dim, dim, channels), dtype=np.uint8)\n",
    "        else:\n",
    "            new_img = np.zeros((dim, dim), dtype=np.uint8)\n",
    "        for i in range(img.shape[0]):\n",
    "            for j in range(img.shape[1]):\n",
    "                new_img[i, j] = img[i, j]\n",
    "        if channels>0:\n",
    "            return resize(new_img, (IMG_HEIGHT, IMG_WIDTH), mode='constant')\n",
    "        else:\n",
    "            return resize(new_img, (IMG_HEIGHT, IMG_WIDTH), mode='constant')\n",
    "    else:\n",
    "        if channels>0:\n",
    "            return resize(img, (IMG_HEIGHT, IMG_WIDTH), mode='constant')\n",
    "        else:\n",
    "            return resize(img, (IMG_HEIGHT, IMG_WIDTH), mode='constant')\n",
    "\n",
    "\n",
    "# Set some parameters\n",
    "IMG_WIDTH = 256\n",
    "IMG_HEIGHT = 256\n",
    "IMG_CHANNELS = 3\n",
    "TRAIN_PATH = 'stage1_train/'\n",
    "TEST_PATH = 'stage1_test/'\n",
    "\n",
    "warnings.filterwarnings('ignore', category=UserWarning, module='skimage')\n",
    "seed = 42\n",
    "random.seed = seed\n",
    "np.random.seed = seed\n",
    "\n",
    "train_ids = next(os.walk(TRAIN_PATH))[1]\n",
    "test_ids = next(os.walk(TEST_PATH))[1]\n",
    "\n",
    "# Get and resize train images and masks\n",
    "X_train = np.zeros((len(train_ids), IMG_HEIGHT, IMG_WIDTH, IMG_CHANNELS), dtype=np.uint8)\n",
    "Y_train = np.zeros((len(train_ids), IMG_HEIGHT, IMG_WIDTH, 1), dtype=np.bool)\n",
    "print('Getting and resizing train images and masks ... ')\n",
    "sys.stdout.flush()\n",
    "for n, id_ in tqdm(enumerate(train_ids), total=len(train_ids)):\n",
    "    path = TRAIN_PATH + id_\n",
    "    img = imread(path + '/images/' + id_ + '.png')[:,:,:IMG_CHANNELS]\n",
    "    img = resize_padded(img)\n",
    "    #print(id_)\n",
    "    X_train[n] = img\n",
    "    imsave(path + '/images/' + id_ + '_resized.png', np.array(img))\n",
    "    mask = np.zeros((IMG_HEIGHT, IMG_WIDTH, 1), dtype=np.bool)\n",
    "    for mask_file in next(os.walk(path + '/masks/'))[2]:\n",
    "        mask_ = imread(path + '/masks/' + mask_file)\n",
    "        mask_ = np.expand_dims(resize_padded(mask_, channels=0), axis=-1)\n",
    "        mask = np.maximum(mask, mask_)\n",
    "    Y_train[n] = mask\n",
    "    #imsave(path + '/masks/' + id_ + '_resized.png', np.array(mask, dtype=np.uint8))\n",
    "\n",
    "# Get and resize test images\n",
    "X_test = np.zeros((len(test_ids), IMG_HEIGHT, IMG_WIDTH, IMG_CHANNELS), dtype=np.uint8)\n",
    "sizes_test = []\n",
    "print('Getting and resizing test images ... ')\n",
    "sys.stdout.flush()\n",
    "for n, id_ in tqdm(enumerate(test_ids), total=len(test_ids)):\n",
    "    path = TEST_PATH + id_\n",
    "    img = imread(path + '/images/' + id_ + '.png')[:,:,:IMG_CHANNELS]\n",
    "    sizes_test.append([img.shape[0], img.shape[1]])\n",
    "    img = resize_padded(img)\n",
    "    X_test[n] = img\n",
    "\n",
    "print('Done!')\n",
    "\n",
    "# Check if training data looks all right\n",
    "ix = random.randint(0, len(train_ids))\n",
    "imshow(X_train[ix])\n",
    "plt.show()\n",
    "imshow(np.squeeze(Y_train[ix]))\n",
    "plt.show()"
   ]
  },
  {
   "cell_type": "code",
   "execution_count": 31,
   "metadata": {
    "collapsed": true
   },
   "outputs": [],
   "source": [
    "# Define IoU metric\n",
    "def mean_iou(y_true, y_pred):\n",
    "    prec = []\n",
    "    for t in np.arange(0.5, 1.0, 0.05):\n",
    "        y_pred_ = tf.to_int32(y_pred > t)\n",
    "        score, up_opt = tf.metrics.mean_iou(y_true, y_pred_, 2)\n",
    "        K.get_session().run(tf.local_variables_initializer())\n",
    "        with tf.control_dependencies([up_opt]):\n",
    "            score = tf.identity(score)\n",
    "        prec.append(score)\n",
    "    return K.mean(K.stack(prec), axis=0)"
   ]
  },
  {
   "cell_type": "code",
   "execution_count": 32,
   "metadata": {},
   "outputs": [
    {
     "name": "stdout",
     "output_type": "stream",
     "text": [
      "__________________________________________________________________________________________________\n",
      "Layer (type)                    Output Shape         Param #     Connected to                     \n",
      "==================================================================================================\n",
      "input_2 (InputLayer)            (None, 256, 256, 3)  0                                            \n",
      "__________________________________________________________________________________________________\n",
      "lambda_2 (Lambda)               (None, 256, 256, 3)  0           input_2[0][0]                    \n",
      "__________________________________________________________________________________________________\n",
      "conv2d_11 (Conv2D)              (None, 256, 256, 16) 448         lambda_2[0][0]                   \n",
      "__________________________________________________________________________________________________\n",
      "dropout_6 (Dropout)             (None, 256, 256, 16) 0           conv2d_11[0][0]                  \n",
      "__________________________________________________________________________________________________\n",
      "conv2d_12 (Conv2D)              (None, 256, 256, 16) 2320        dropout_6[0][0]                  \n",
      "__________________________________________________________________________________________________\n",
      "max_pooling2d_5 (MaxPooling2D)  (None, 128, 128, 16) 0           conv2d_12[0][0]                  \n",
      "__________________________________________________________________________________________________\n",
      "conv2d_13 (Conv2D)              (None, 128, 128, 32) 4640        max_pooling2d_5[0][0]            \n",
      "__________________________________________________________________________________________________\n",
      "dropout_7 (Dropout)             (None, 128, 128, 32) 0           conv2d_13[0][0]                  \n",
      "__________________________________________________________________________________________________\n",
      "conv2d_14 (Conv2D)              (None, 128, 128, 32) 9248        dropout_7[0][0]                  \n",
      "__________________________________________________________________________________________________\n",
      "max_pooling2d_6 (MaxPooling2D)  (None, 64, 64, 32)   0           conv2d_14[0][0]                  \n",
      "__________________________________________________________________________________________________\n",
      "conv2d_15 (Conv2D)              (None, 64, 64, 64)   18496       max_pooling2d_6[0][0]            \n",
      "__________________________________________________________________________________________________\n",
      "dropout_8 (Dropout)             (None, 64, 64, 64)   0           conv2d_15[0][0]                  \n",
      "__________________________________________________________________________________________________\n",
      "conv2d_16 (Conv2D)              (None, 64, 64, 64)   36928       dropout_8[0][0]                  \n",
      "__________________________________________________________________________________________________\n",
      "max_pooling2d_7 (MaxPooling2D)  (None, 32, 32, 64)   0           conv2d_16[0][0]                  \n",
      "__________________________________________________________________________________________________\n",
      "conv2d_17 (Conv2D)              (None, 32, 32, 128)  73856       max_pooling2d_7[0][0]            \n",
      "__________________________________________________________________________________________________\n",
      "dropout_9 (Dropout)             (None, 32, 32, 128)  0           conv2d_17[0][0]                  \n",
      "__________________________________________________________________________________________________\n",
      "conv2d_18 (Conv2D)              (None, 32, 32, 128)  147584      dropout_9[0][0]                  \n",
      "__________________________________________________________________________________________________\n",
      "max_pooling2d_8 (MaxPooling2D)  (None, 16, 16, 128)  0           conv2d_18[0][0]                  \n",
      "__________________________________________________________________________________________________\n",
      "conv2d_19 (Conv2D)              (None, 16, 16, 256)  295168      max_pooling2d_8[0][0]            \n",
      "__________________________________________________________________________________________________\n",
      "dropout_10 (Dropout)            (None, 16, 16, 256)  0           conv2d_19[0][0]                  \n",
      "__________________________________________________________________________________________________\n",
      "conv2d_20 (Conv2D)              (None, 16, 16, 256)  590080      dropout_10[0][0]                 \n",
      "__________________________________________________________________________________________________\n",
      "conv2d_transpose_2 (Conv2DTrans (None, 32, 32, 128)  131200      conv2d_20[0][0]                  \n",
      "__________________________________________________________________________________________________\n",
      "concatenate_2 (Concatenate)     (None, 32, 32, 256)  0           conv2d_transpose_2[0][0]         \n",
      "                                                                 conv2d_18[0][0]                  \n",
      "__________________________________________________________________________________________________\n",
      "conv2d_21 (Conv2D)              (None, 32, 32, 128)  295040      concatenate_2[0][0]              \n",
      "__________________________________________________________________________________________________\n",
      "dropout_11 (Dropout)            (None, 32, 32, 128)  0           conv2d_21[0][0]                  \n",
      "__________________________________________________________________________________________________\n",
      "conv2d_22 (Conv2D)              (None, 32, 32, 128)  147584      dropout_11[0][0]                 \n",
      "__________________________________________________________________________________________________\n",
      "conv2d_transpose_3 (Conv2DTrans (None, 64, 64, 64)   32832       conv2d_22[0][0]                  \n",
      "__________________________________________________________________________________________________\n",
      "concatenate_3 (Concatenate)     (None, 64, 64, 128)  0           conv2d_transpose_3[0][0]         \n",
      "                                                                 conv2d_16[0][0]                  \n",
      "__________________________________________________________________________________________________\n",
      "conv2d_23 (Conv2D)              (None, 64, 64, 64)   73792       concatenate_3[0][0]              \n",
      "__________________________________________________________________________________________________\n",
      "dropout_12 (Dropout)            (None, 64, 64, 64)   0           conv2d_23[0][0]                  \n",
      "__________________________________________________________________________________________________\n",
      "conv2d_24 (Conv2D)              (None, 64, 64, 64)   36928       dropout_12[0][0]                 \n",
      "__________________________________________________________________________________________________\n",
      "conv2d_transpose_4 (Conv2DTrans (None, 128, 128, 32) 8224        conv2d_24[0][0]                  \n",
      "__________________________________________________________________________________________________\n",
      "concatenate_4 (Concatenate)     (None, 128, 128, 64) 0           conv2d_transpose_4[0][0]         \n",
      "                                                                 conv2d_14[0][0]                  \n",
      "__________________________________________________________________________________________________\n",
      "conv2d_25 (Conv2D)              (None, 128, 128, 32) 18464       concatenate_4[0][0]              \n",
      "__________________________________________________________________________________________________\n",
      "dropout_13 (Dropout)            (None, 128, 128, 32) 0           conv2d_25[0][0]                  \n",
      "__________________________________________________________________________________________________\n",
      "conv2d_26 (Conv2D)              (None, 128, 128, 32) 9248        dropout_13[0][0]                 \n",
      "__________________________________________________________________________________________________\n",
      "conv2d_transpose_5 (Conv2DTrans (None, 256, 256, 16) 2064        conv2d_26[0][0]                  \n",
      "__________________________________________________________________________________________________\n",
      "concatenate_5 (Concatenate)     (None, 256, 256, 32) 0           conv2d_transpose_5[0][0]         \n",
      "                                                                 conv2d_12[0][0]                  \n"
     ]
    },
    {
     "name": "stdout",
     "output_type": "stream",
     "text": [
      "__________________________________________________________________________________________________\n",
      "conv2d_27 (Conv2D)              (None, 256, 256, 16) 4624        concatenate_5[0][0]              \n",
      "__________________________________________________________________________________________________\n",
      "dropout_14 (Dropout)            (None, 256, 256, 16) 0           conv2d_27[0][0]                  \n",
      "__________________________________________________________________________________________________\n",
      "conv2d_28 (Conv2D)              (None, 256, 256, 16) 2320        dropout_14[0][0]                 \n",
      "__________________________________________________________________________________________________\n",
      "conv2d_29 (Conv2D)              (None, 256, 256, 1)  17          conv2d_28[0][0]                  \n",
      "==================================================================================================\n",
      "Total params: 1,941,105\n",
      "Trainable params: 1,941,105\n",
      "Non-trainable params: 0\n",
      "__________________________________________________________________________________________________\n"
     ]
    }
   ],
   "source": [
    "# Build U-Net model\n",
    "inputs = Input((IMG_HEIGHT, IMG_WIDTH, IMG_CHANNELS))\n",
    "s = Lambda(lambda x: x / 255) (inputs)\n",
    "\n",
    "c1 = Conv2D(16, (3, 3), activation='elu', kernel_initializer='he_normal', padding='same') (s)\n",
    "c1 = Dropout(0.05) (c1)\n",
    "c1 = Conv2D(16, (3, 3), activation='elu', kernel_initializer='he_normal', padding='same') (c1)\n",
    "p1 = MaxPooling2D((2, 2)) (c1)\n",
    "\n",
    "c2 = Conv2D(32, (3, 3), activation='elu', kernel_initializer='he_normal', padding='same') (p1)\n",
    "c2 = Dropout(0.05) (c2)\n",
    "c2 = Conv2D(32, (3, 3), activation='elu', kernel_initializer='he_normal', padding='same') (c2)\n",
    "p2 = MaxPooling2D((2, 2)) (c2)\n",
    "\n",
    "c3 = Conv2D(64, (3, 3), activation='elu', kernel_initializer='he_normal', padding='same') (p2)\n",
    "c3 = Dropout(0.1) (c3)\n",
    "c3 = Conv2D(64, (3, 3), activation='elu', kernel_initializer='he_normal', padding='same') (c3)\n",
    "p3 = MaxPooling2D((2, 2)) (c3)\n",
    "\n",
    "c4 = Conv2D(128, (3, 3), activation='elu', kernel_initializer='he_normal', padding='same') (p3)\n",
    "c4 = Dropout(0.1) (c4)\n",
    "c4 = Conv2D(128, (3, 3), activation='elu', kernel_initializer='he_normal', padding='same') (c4)\n",
    "p4 = MaxPooling2D(pool_size=(2, 2)) (c4)\n",
    "\n",
    "c5 = Conv2D(256, (3, 3), activation='elu', kernel_initializer='he_normal', padding='same') (p4)\n",
    "c5 = Dropout(0.2) (c5)\n",
    "c5 = Conv2D(256, (3, 3), activation='elu', kernel_initializer='he_normal', padding='same') (c5)\n",
    "\n",
    "u6 = Conv2DTranspose(128, (2, 2), strides=(2, 2), padding='same') (c5)\n",
    "u6 = concatenate([u6, c4])\n",
    "c6 = Conv2D(128, (3, 3), activation='elu', kernel_initializer='he_normal', padding='same') (u6)\n",
    "c6 = Dropout(0.2) (c6)\n",
    "c6 = Conv2D(128, (3, 3), activation='elu', kernel_initializer='he_normal', padding='same') (c6)\n",
    "\n",
    "u7 = Conv2DTranspose(64, (2, 2), strides=(2, 2), padding='same') (c6)\n",
    "u7 = concatenate([u7, c3])\n",
    "c7 = Conv2D(64, (3, 3), activation='elu', kernel_initializer='he_normal', padding='same') (u7)\n",
    "c7 = Dropout(0.2) (c7)\n",
    "c7 = Conv2D(64, (3, 3), activation='elu', kernel_initializer='he_normal', padding='same') (c7)\n",
    "\n",
    "u8 = Conv2DTranspose(32, (2, 2), strides=(2, 2), padding='same') (c7)\n",
    "u8 = concatenate([u8, c2])\n",
    "c8 = Conv2D(32, (3, 3), activation='elu', kernel_initializer='he_normal', padding='same') (u8)\n",
    "c8 = Dropout(0.1) (c8)\n",
    "c8 = Conv2D(32, (3, 3), activation='elu', kernel_initializer='he_normal', padding='same') (c8)\n",
    "\n",
    "u9 = Conv2DTranspose(16, (2, 2), strides=(2, 2), padding='same') (c8)\n",
    "u9 = concatenate([u9, c1], axis=3)\n",
    "c9 = Conv2D(16, (3, 3), activation='elu', kernel_initializer='he_normal', padding='same') (u9)\n",
    "c9 = Dropout(0.1) (c9)\n",
    "c9 = Conv2D(16, (3, 3), activation='elu', kernel_initializer='he_normal', padding='same') (c9)\n",
    "\n",
    "outputs = Conv2D(1, (1, 1), activation='sigmoid') (c9)\n",
    "\n",
    "model = Model(inputs=[inputs], outputs=[outputs])\n",
    "model.compile(optimizer='adam', loss='binary_crossentropy', metrics=[mean_iou])\n",
    "model.summary()"
   ]
  },
  {
   "cell_type": "code",
   "execution_count": 33,
   "metadata": {},
   "outputs": [
    {
     "name": "stdout",
     "output_type": "stream",
     "text": [
      "Train on 603 samples, validate on 67 samples\n",
      "Epoch 1/50\n",
      "603/603 [==============================] - ETA: 5:07 - loss: 0.6928 - mean_iou: 0.0000e+ - ETA: 4:33 - loss: 0.6844 - mean_iou: 0.2162   - ETA: 4:16 - loss: 0.6669 - mean_iou: 0.28 - ETA: 4:07 - loss: 0.6204 - mean_iou: 0.32 - ETA: 4:02 - loss: 0.5802 - mean_iou: 0.34 - ETA: 3:57 - loss: 0.5499 - mean_iou: 0.35 - ETA: 3:51 - loss: 0.5291 - mean_iou: 0.36 - ETA: 3:44 - loss: 0.5122 - mean_iou: 0.37 - ETA: 3:37 - loss: 0.4987 - mean_iou: 0.38 - ETA: 3:31 - loss: 0.4921 - mean_iou: 0.38 - ETA: 3:24 - loss: 0.4809 - mean_iou: 0.39 - ETA: 3:17 - loss: 0.4799 - mean_iou: 0.39 - ETA: 3:09 - loss: 0.4696 - mean_iou: 0.39 - ETA: 3:02 - loss: 0.4596 - mean_iou: 0.40 - ETA: 2:54 - loss: 0.4597 - mean_iou: 0.40 - ETA: 2:47 - loss: 0.4585 - mean_iou: 0.40 - ETA: 2:39 - loss: 0.4602 - mean_iou: 0.40 - ETA: 2:32 - loss: 0.4592 - mean_iou: 0.40 - ETA: 2:24 - loss: 0.4614 - mean_iou: 0.41 - ETA: 2:17 - loss: 0.4532 - mean_iou: 0.41 - ETA: 2:08 - loss: 0.4536 - mean_iou: 0.41 - ETA: 2:01 - loss: 0.4499 - mean_iou: 0.41 - ETA: 1:53 - loss: 0.4482 - mean_iou: 0.41 - ETA: 1:45 - loss: 0.4463 - mean_iou: 0.41 - ETA: 1:37 - loss: 0.4434 - mean_iou: 0.41 - ETA: 1:29 - loss: 0.4443 - mean_iou: 0.41 - ETA: 1:21 - loss: 0.4452 - mean_iou: 0.41 - ETA: 1:13 - loss: 0.4442 - mean_iou: 0.41 - ETA: 1:05 - loss: 0.4440 - mean_iou: 0.41 - ETA: 58s - loss: 0.4422 - mean_iou: 0.4183 - ETA: 50s - loss: 0.4398 - mean_iou: 0.418 - ETA: 42s - loss: 0.4391 - mean_iou: 0.419 - ETA: 35s - loss: 0.4371 - mean_iou: 0.419 - ETA: 27s - loss: 0.4360 - mean_iou: 0.419 - ETA: 20s - loss: 0.4367 - mean_iou: 0.420 - ETA: 12s - loss: 0.4342 - mean_iou: 0.420 - ETA: 5s - loss: 0.4347 - mean_iou: 0.420 - 293s 486ms/step - loss: 0.4325 - mean_iou: 0.4210 - val_loss: 0.3843 - val_mean_iou: 0.4319\n",
      "\n",
      "Epoch 00001: val_loss improved from inf to 0.38427, saving model to model-dsbowl2018-03-30-1.h5\n",
      "Epoch 2/50\n",
      "603/603 [==============================] - ETA: 4:22 - loss: 0.4607 - mean_iou: 0.43 - ETA: 4:20 - loss: 0.4002 - mean_iou: 0.43 - ETA: 4:14 - loss: 0.4080 - mean_iou: 0.43 - ETA: 4:05 - loss: 0.4067 - mean_iou: 0.43 - ETA: 3:58 - loss: 0.4170 - mean_iou: 0.43 - ETA: 3:51 - loss: 0.4221 - mean_iou: 0.43 - ETA: 3:43 - loss: 0.4293 - mean_iou: 0.43 - ETA: 3:35 - loss: 0.4178 - mean_iou: 0.43 - ETA: 3:28 - loss: 0.4056 - mean_iou: 0.43 - ETA: 3:20 - loss: 0.4034 - mean_iou: 0.43 - ETA: 3:14 - loss: 0.3998 - mean_iou: 0.43 - ETA: 3:09 - loss: 0.4029 - mean_iou: 0.43 - ETA: 3:01 - loss: 0.4109 - mean_iou: 0.43 - ETA: 2:54 - loss: 0.4106 - mean_iou: 0.43 - ETA: 2:46 - loss: 0.4088 - mean_iou: 0.43 - ETA: 2:38 - loss: 0.4075 - mean_iou: 0.43 - ETA: 2:31 - loss: 0.4102 - mean_iou: 0.43 - ETA: 2:24 - loss: 0.4093 - mean_iou: 0.43 - ETA: 2:17 - loss: 0.4042 - mean_iou: 0.43 - ETA: 2:10 - loss: 0.4057 - mean_iou: 0.43 - ETA: 2:02 - loss: 0.4060 - mean_iou: 0.43 - ETA: 1:55 - loss: 0.4059 - mean_iou: 0.43 - ETA: 1:48 - loss: 0.4052 - mean_iou: 0.43 - ETA: 1:40 - loss: 0.4050 - mean_iou: 0.43 - ETA: 1:33 - loss: 0.4048 - mean_iou: 0.43 - ETA: 1:25 - loss: 0.4074 - mean_iou: 0.43 - ETA: 1:18 - loss: 0.4055 - mean_iou: 0.43 - ETA: 1:10 - loss: 0.4035 - mean_iou: 0.43 - ETA: 1:03 - loss: 0.4042 - mean_iou: 0.43 - ETA: 56s - loss: 0.4020 - mean_iou: 0.4320 - ETA: 48s - loss: 0.3993 - mean_iou: 0.432 - ETA: 41s - loss: 0.4031 - mean_iou: 0.432 - ETA: 34s - loss: 0.4014 - mean_iou: 0.432 - ETA: 27s - loss: 0.4018 - mean_iou: 0.432 - ETA: 19s - loss: 0.4032 - mean_iou: 0.432 - ETA: 12s - loss: 0.4028 - mean_iou: 0.432 - ETA: 5s - loss: 0.4045 - mean_iou: 0.432 - 294s 488ms/step - loss: 0.4045 - mean_iou: 0.4321 - val_loss: 0.3857 - val_mean_iou: 0.4320\n",
      "\n",
      "Epoch 00002: val_loss did not improve\n",
      "Epoch 3/50\n",
      "603/603 [==============================] - ETA: 5:32 - loss: 0.4085 - mean_iou: 0.43 - ETA: 5:36 - loss: 0.3997 - mean_iou: 0.43 - ETA: 5:24 - loss: 0.3825 - mean_iou: 0.43 - ETA: 5:13 - loss: 0.4051 - mean_iou: 0.43 - ETA: 5:03 - loss: 0.4050 - mean_iou: 0.43 - ETA: 4:52 - loss: 0.4097 - mean_iou: 0.43 - ETA: 4:41 - loss: 0.4061 - mean_iou: 0.43 - ETA: 4:31 - loss: 0.4056 - mean_iou: 0.43 - ETA: 4:22 - loss: 0.3997 - mean_iou: 0.43 - ETA: 4:13 - loss: 0.3961 - mean_iou: 0.43 - ETA: 4:04 - loss: 0.3896 - mean_iou: 0.43 - ETA: 3:55 - loss: 0.3937 - mean_iou: 0.43 - ETA: 3:46 - loss: 0.3922 - mean_iou: 0.43 - ETA: 3:36 - loss: 0.3943 - mean_iou: 0.43 - ETA: 3:27 - loss: 0.3952 - mean_iou: 0.43 - ETA: 3:18 - loss: 0.4008 - mean_iou: 0.43 - ETA: 3:08 - loss: 0.3996 - mean_iou: 0.43 - ETA: 2:59 - loss: 0.4056 - mean_iou: 0.43 - ETA: 2:50 - loss: 0.4052 - mean_iou: 0.43 - ETA: 2:41 - loss: 0.4051 - mean_iou: 0.43 - ETA: 2:32 - loss: 0.4036 - mean_iou: 0.43 - ETA: 2:23 - loss: 0.4069 - mean_iou: 0.43 - ETA: 2:13 - loss: 0.4054 - mean_iou: 0.43 - ETA: 2:04 - loss: 0.4029 - mean_iou: 0.43 - ETA: 1:55 - loss: 0.4023 - mean_iou: 0.43 - ETA: 1:46 - loss: 0.3976 - mean_iou: 0.43 - ETA: 1:37 - loss: 0.3963 - mean_iou: 0.43 - ETA: 1:28 - loss: 0.3955 - mean_iou: 0.43 - ETA: 1:18 - loss: 0.3956 - mean_iou: 0.43 - ETA: 1:09 - loss: 0.3972 - mean_iou: 0.43 - ETA: 1:00 - loss: 0.3989 - mean_iou: 0.43 - ETA: 51s - loss: 0.4019 - mean_iou: 0.4323 - ETA: 42s - loss: 0.4023 - mean_iou: 0.432 - ETA: 33s - loss: 0.4017 - mean_iou: 0.432 - ETA: 24s - loss: 0.4025 - mean_iou: 0.432 - ETA: 15s - loss: 0.4020 - mean_iou: 0.432 - ETA: 6s - loss: 0.4020 - mean_iou: 0.432 - 361s 599ms/step - loss: 0.4031 - mean_iou: 0.4322 - val_loss: 0.3850 - val_mean_iou: 0.4321\n",
      "\n",
      "Epoch 00003: val_loss did not improve\n",
      "Epoch 4/50\n",
      "603/603 [==============================] - ETA: 5:32 - loss: 0.4361 - mean_iou: 0.43 - ETA: 5:23 - loss: 0.4299 - mean_iou: 0.43 - ETA: 5:13 - loss: 0.3995 - mean_iou: 0.43 - ETA: 5:02 - loss: 0.3974 - mean_iou: 0.43 - ETA: 4:56 - loss: 0.3910 - mean_iou: 0.43 - ETA: 4:51 - loss: 0.3927 - mean_iou: 0.43 - ETA: 4:43 - loss: 0.3943 - mean_iou: 0.43 - ETA: 4:33 - loss: 0.3973 - mean_iou: 0.43 - ETA: 4:24 - loss: 0.4107 - mean_iou: 0.43 - ETA: 4:15 - loss: 0.4069 - mean_iou: 0.43 - ETA: 4:06 - loss: 0.4030 - mean_iou: 0.43 - ETA: 3:57 - loss: 0.4085 - mean_iou: 0.43 - ETA: 3:47 - loss: 0.4039 - mean_iou: 0.43 - ETA: 3:38 - loss: 0.4050 - mean_iou: 0.43 - ETA: 3:28 - loss: 0.4037 - mean_iou: 0.43 - ETA: 3:19 - loss: 0.4025 - mean_iou: 0.43 - ETA: 3:10 - loss: 0.4063 - mean_iou: 0.43 - ETA: 3:01 - loss: 0.4073 - mean_iou: 0.43 - ETA: 2:52 - loss: 0.4060 - mean_iou: 0.43 - ETA: 2:44 - loss: 0.4062 - mean_iou: 0.43 - ETA: 2:34 - loss: 0.4032 - mean_iou: 0.43 - ETA: 2:25 - loss: 0.3994 - mean_iou: 0.43 - ETA: 2:15 - loss: 0.4011 - mean_iou: 0.43 - ETA: 2:06 - loss: 0.4032 - mean_iou: 0.43 - ETA: 1:56 - loss: 0.4015 - mean_iou: 0.43 - ETA: 1:46 - loss: 0.4006 - mean_iou: 0.43 - ETA: 1:37 - loss: 0.3975 - mean_iou: 0.43 - ETA: 1:28 - loss: 0.3981 - mean_iou: 0.43 - ETA: 1:18 - loss: 0.3974 - mean_iou: 0.43 - ETA: 1:09 - loss: 0.3960 - mean_iou: 0.43 - ETA: 1:00 - loss: 0.3980 - mean_iou: 0.43 - ETA: 51s - loss: 0.3971 - mean_iou: 0.4321 - ETA: 42s - loss: 0.3970 - mean_iou: 0.432 - ETA: 33s - loss: 0.3972 - mean_iou: 0.432 - ETA: 24s - loss: 0.3960 - mean_iou: 0.432 - ETA: 15s - loss: 0.3976 - mean_iou: 0.432 - ETA: 6s - loss: 0.3986 - mean_iou: 0.432 - 351s 582ms/step - loss: 0.4003 - mean_iou: 0.4322 - val_loss: 0.3842 - val_mean_iou: 0.4321\n",
      "\n",
      "Epoch 00004: val_loss improved from 0.38427 to 0.38423, saving model to model-dsbowl2018-03-30-1.h5\n",
      "Epoch 5/50\n"
     ]
    },
    {
     "name": "stdout",
     "output_type": "stream",
     "text": [
      "603/603 [==============================] - ETA: 5:14 - loss: 0.3883 - mean_iou: 0.43 - ETA: 5:05 - loss: 0.3564 - mean_iou: 0.43 - ETA: 4:57 - loss: 0.3760 - mean_iou: 0.43 - ETA: 4:49 - loss: 0.3790 - mean_iou: 0.43 - ETA: 4:41 - loss: 0.3850 - mean_iou: 0.43 - ETA: 4:33 - loss: 0.3736 - mean_iou: 0.43 - ETA: 4:24 - loss: 0.3854 - mean_iou: 0.43 - ETA: 4:15 - loss: 0.3862 - mean_iou: 0.43 - ETA: 4:07 - loss: 0.3865 - mean_iou: 0.43 - ETA: 3:59 - loss: 0.3803 - mean_iou: 0.43 - ETA: 3:51 - loss: 0.3854 - mean_iou: 0.43 - ETA: 3:43 - loss: 0.3880 - mean_iou: 0.43 - ETA: 3:34 - loss: 0.3905 - mean_iou: 0.43 - ETA: 3:25 - loss: 0.3916 - mean_iou: 0.43 - ETA: 3:17 - loss: 0.3939 - mean_iou: 0.43 - ETA: 3:08 - loss: 0.3937 - mean_iou: 0.43 - ETA: 2:59 - loss: 0.3934 - mean_iou: 0.43 - ETA: 2:50 - loss: 0.3960 - mean_iou: 0.43 - ETA: 2:42 - loss: 0.3979 - mean_iou: 0.43 - ETA: 2:33 - loss: 0.3944 - mean_iou: 0.43 - ETA: 2:24 - loss: 0.3985 - mean_iou: 0.43 - ETA: 2:15 - loss: 0.4024 - mean_iou: 0.43 - ETA: 2:07 - loss: 0.4020 - mean_iou: 0.43 - ETA: 1:58 - loss: 0.4007 - mean_iou: 0.43 - ETA: 1:49 - loss: 0.3988 - mean_iou: 0.43 - ETA: 1:41 - loss: 0.3994 - mean_iou: 0.43 - ETA: 1:32 - loss: 0.4006 - mean_iou: 0.43 - ETA: 1:23 - loss: 0.3995 - mean_iou: 0.43 - ETA: 1:15 - loss: 0.3966 - mean_iou: 0.43 - ETA: 1:06 - loss: 0.3944 - mean_iou: 0.43 - ETA: 57s - loss: 0.3949 - mean_iou: 0.4323 - ETA: 49s - loss: 0.3946 - mean_iou: 0.432 - ETA: 40s - loss: 0.3947 - mean_iou: 0.432 - ETA: 31s - loss: 0.3943 - mean_iou: 0.432 - ETA: 23s - loss: 0.3972 - mean_iou: 0.432 - ETA: 14s - loss: 0.3989 - mean_iou: 0.432 - ETA: 5s - loss: 0.3993 - mean_iou: 0.432 - 338s 561ms/step - loss: 0.4007 - mean_iou: 0.4323 - val_loss: 0.3837 - val_mean_iou: 0.4322\n",
      "\n",
      "Epoch 00005: val_loss improved from 0.38423 to 0.38371, saving model to model-dsbowl2018-03-30-1.h5\n",
      "Epoch 6/50\n",
      "603/603 [==============================] - ETA: 5:16 - loss: 0.3075 - mean_iou: 0.43 - ETA: 5:07 - loss: 0.3414 - mean_iou: 0.43 - ETA: 4:58 - loss: 0.3821 - mean_iou: 0.43 - ETA: 4:49 - loss: 0.3897 - mean_iou: 0.43 - ETA: 4:40 - loss: 0.4082 - mean_iou: 0.43 - ETA: 4:32 - loss: 0.4156 - mean_iou: 0.43 - ETA: 4:23 - loss: 0.4172 - mean_iou: 0.43 - ETA: 4:14 - loss: 0.4204 - mean_iou: 0.43 - ETA: 4:06 - loss: 0.4214 - mean_iou: 0.43 - ETA: 3:57 - loss: 0.4191 - mean_iou: 0.43 - ETA: 3:48 - loss: 0.4136 - mean_iou: 0.43 - ETA: 3:40 - loss: 0.4130 - mean_iou: 0.43 - ETA: 3:31 - loss: 0.4112 - mean_iou: 0.43 - ETA: 3:23 - loss: 0.4108 - mean_iou: 0.43 - ETA: 3:14 - loss: 0.4123 - mean_iou: 0.43 - ETA: 3:06 - loss: 0.4054 - mean_iou: 0.43 - ETA: 2:57 - loss: 0.4064 - mean_iou: 0.43 - ETA: 2:48 - loss: 0.4058 - mean_iou: 0.43 - ETA: 2:38 - loss: 0.4073 - mean_iou: 0.43 - ETA: 2:29 - loss: 0.4059 - mean_iou: 0.43 - ETA: 2:20 - loss: 0.4045 - mean_iou: 0.43 - ETA: 2:11 - loss: 0.4039 - mean_iou: 0.43 - ETA: 2:02 - loss: 0.4037 - mean_iou: 0.43 - ETA: 1:53 - loss: 0.4072 - mean_iou: 0.43 - ETA: 1:44 - loss: 0.4076 - mean_iou: 0.43 - ETA: 1:36 - loss: 0.4068 - mean_iou: 0.43 - ETA: 1:27 - loss: 0.4058 - mean_iou: 0.43 - ETA: 1:19 - loss: 0.4053 - mean_iou: 0.43 - ETA: 1:11 - loss: 0.4040 - mean_iou: 0.43 - ETA: 1:03 - loss: 0.4042 - mean_iou: 0.43 - ETA: 55s - loss: 0.4029 - mean_iou: 0.4321 - ETA: 46s - loss: 0.4017 - mean_iou: 0.432 - ETA: 38s - loss: 0.3983 - mean_iou: 0.432 - ETA: 30s - loss: 0.3986 - mean_iou: 0.432 - ETA: 22s - loss: 0.3995 - mean_iou: 0.432 - ETA: 13s - loss: 0.4009 - mean_iou: 0.432 - ETA: 5s - loss: 0.3997 - mean_iou: 0.432 - 326s 541ms/step - loss: 0.4001 - mean_iou: 0.4321 - val_loss: 0.3837 - val_mean_iou: 0.4322\n",
      "\n",
      "Epoch 00006: val_loss improved from 0.38371 to 0.38367, saving model to model-dsbowl2018-03-30-1.h5\n",
      "Epoch 7/50\n",
      "603/603 [==============================] - ETA: 5:53 - loss: 0.4372 - mean_iou: 0.43 - ETA: 5:35 - loss: 0.4625 - mean_iou: 0.43 - ETA: 5:02 - loss: 0.4395 - mean_iou: 0.43 - ETA: 4:39 - loss: 0.4312 - mean_iou: 0.43 - ETA: 4:23 - loss: 0.4192 - mean_iou: 0.43 - ETA: 4:12 - loss: 0.4270 - mean_iou: 0.43 - ETA: 4:03 - loss: 0.4216 - mean_iou: 0.43 - ETA: 3:53 - loss: 0.4190 - mean_iou: 0.43 - ETA: 3:43 - loss: 0.4091 - mean_iou: 0.43 - ETA: 3:35 - loss: 0.4068 - mean_iou: 0.43 - ETA: 3:26 - loss: 0.4107 - mean_iou: 0.43 - ETA: 3:17 - loss: 0.4108 - mean_iou: 0.43 - ETA: 3:09 - loss: 0.4144 - mean_iou: 0.43 - ETA: 3:00 - loss: 0.4101 - mean_iou: 0.43 - ETA: 2:52 - loss: 0.4114 - mean_iou: 0.43 - ETA: 2:44 - loss: 0.4127 - mean_iou: 0.43 - ETA: 2:36 - loss: 0.4088 - mean_iou: 0.43 - ETA: 2:29 - loss: 0.4056 - mean_iou: 0.43 - ETA: 2:21 - loss: 0.4048 - mean_iou: 0.43 - ETA: 2:13 - loss: 0.4041 - mean_iou: 0.43 - ETA: 2:05 - loss: 0.4001 - mean_iou: 0.43 - ETA: 1:58 - loss: 0.4001 - mean_iou: 0.43 - ETA: 1:50 - loss: 0.4032 - mean_iou: 0.43 - ETA: 1:42 - loss: 0.4005 - mean_iou: 0.43 - ETA: 1:35 - loss: 0.4038 - mean_iou: 0.43 - ETA: 1:27 - loss: 0.4012 - mean_iou: 0.43 - ETA: 1:19 - loss: 0.3992 - mean_iou: 0.43 - ETA: 1:11 - loss: 0.3992 - mean_iou: 0.43 - ETA: 1:04 - loss: 0.3990 - mean_iou: 0.43 - ETA: 56s - loss: 0.3999 - mean_iou: 0.4321 - ETA: 49s - loss: 0.3994 - mean_iou: 0.432 - ETA: 42s - loss: 0.3992 - mean_iou: 0.432 - ETA: 34s - loss: 0.3990 - mean_iou: 0.432 - ETA: 27s - loss: 0.3981 - mean_iou: 0.432 - ETA: 20s - loss: 0.3983 - mean_iou: 0.432 - ETA: 12s - loss: 0.3999 - mean_iou: 0.432 - ETA: 5s - loss: 0.3989 - mean_iou: 0.432 - 299s 496ms/step - loss: 0.3994 - mean_iou: 0.4321 - val_loss: 0.3840 - val_mean_iou: 0.4322\n",
      "\n",
      "Epoch 00007: val_loss did not improve\n",
      "Epoch 8/50\n",
      "603/603 [==============================] - ETA: 5:32 - loss: 0.4645 - mean_iou: 0.43 - ETA: 5:03 - loss: 0.4397 - mean_iou: 0.43 - ETA: 4:37 - loss: 0.4267 - mean_iou: 0.43 - ETA: 4:21 - loss: 0.4104 - mean_iou: 0.43 - ETA: 4:07 - loss: 0.4072 - mean_iou: 0.43 - ETA: 3:56 - loss: 0.4051 - mean_iou: 0.43 - ETA: 3:48 - loss: 0.4178 - mean_iou: 0.43 - ETA: 3:40 - loss: 0.4145 - mean_iou: 0.43 - ETA: 3:31 - loss: 0.4101 - mean_iou: 0.43 - ETA: 3:23 - loss: 0.4059 - mean_iou: 0.43 - ETA: 3:15 - loss: 0.4015 - mean_iou: 0.43 - ETA: 3:07 - loss: 0.3984 - mean_iou: 0.43 - ETA: 2:59 - loss: 0.4034 - mean_iou: 0.43 - ETA: 2:51 - loss: 0.3968 - mean_iou: 0.43 - ETA: 2:43 - loss: 0.3977 - mean_iou: 0.43 - ETA: 2:36 - loss: 0.3968 - mean_iou: 0.43 - ETA: 2:28 - loss: 0.4031 - mean_iou: 0.43 - ETA: 2:20 - loss: 0.4036 - mean_iou: 0.43 - ETA: 2:13 - loss: 0.4032 - mean_iou: 0.43 - ETA: 2:05 - loss: 0.4010 - mean_iou: 0.43 - ETA: 1:58 - loss: 0.4024 - mean_iou: 0.43 - ETA: 1:51 - loss: 0.4018 - mean_iou: 0.43 - ETA: 1:43 - loss: 0.4028 - mean_iou: 0.43 - ETA: 1:36 - loss: 0.3988 - mean_iou: 0.43 - ETA: 1:29 - loss: 0.4015 - mean_iou: 0.43 - ETA: 1:22 - loss: 0.4001 - mean_iou: 0.43 - ETA: 1:15 - loss: 0.3990 - mean_iou: 0.43 - ETA: 1:08 - loss: 0.4018 - mean_iou: 0.43 - ETA: 1:01 - loss: 0.4028 - mean_iou: 0.43 - ETA: 54s - loss: 0.4015 - mean_iou: 0.4322 - ETA: 46s - loss: 0.4020 - mean_iou: 0.432 - ETA: 39s - loss: 0.3987 - mean_iou: 0.432 - ETA: 32s - loss: 0.3990 - mean_iou: 0.432 - ETA: 25s - loss: 0.3974 - mean_iou: 0.432 - ETA: 18s - loss: 0.3956 - mean_iou: 0.432 - ETA: 11s - loss: 0.3981 - mean_iou: 0.432 - ETA: 4s - loss: 0.3993 - mean_iou: 0.432 - 273s 453ms/step - loss: 0.3995 - mean_iou: 0.4322 - val_loss: 0.3834 - val_mean_iou: 0.4322\n",
      "\n",
      "Epoch 00008: val_loss improved from 0.38367 to 0.38338, saving model to model-dsbowl2018-03-30-1.h5\n",
      "Epoch 9/50\n"
     ]
    },
    {
     "name": "stdout",
     "output_type": "stream",
     "text": [
      "603/603 [==============================] - ETA: 4:11 - loss: 0.4172 - mean_iou: 0.43 - ETA: 4:05 - loss: 0.4171 - mean_iou: 0.43 - ETA: 3:57 - loss: 0.4160 - mean_iou: 0.43 - ETA: 3:50 - loss: 0.4383 - mean_iou: 0.43 - ETA: 3:43 - loss: 0.4462 - mean_iou: 0.43 - ETA: 3:36 - loss: 0.4328 - mean_iou: 0.43 - ETA: 3:29 - loss: 0.4250 - mean_iou: 0.43 - ETA: 3:23 - loss: 0.4298 - mean_iou: 0.43 - ETA: 3:17 - loss: 0.4195 - mean_iou: 0.43 - ETA: 3:10 - loss: 0.4204 - mean_iou: 0.43 - ETA: 3:03 - loss: 0.4143 - mean_iou: 0.43 - ETA: 2:56 - loss: 0.4154 - mean_iou: 0.43 - ETA: 2:49 - loss: 0.4092 - mean_iou: 0.43 - ETA: 2:42 - loss: 0.4084 - mean_iou: 0.43 - ETA: 2:36 - loss: 0.4125 - mean_iou: 0.43 - ETA: 2:29 - loss: 0.4153 - mean_iou: 0.43 - ETA: 2:22 - loss: 0.4171 - mean_iou: 0.43 - ETA: 2:15 - loss: 0.4124 - mean_iou: 0.43 - ETA: 2:08 - loss: 0.4055 - mean_iou: 0.43 - ETA: 2:01 - loss: 0.4075 - mean_iou: 0.43 - ETA: 1:54 - loss: 0.4049 - mean_iou: 0.43 - ETA: 1:47 - loss: 0.4085 - mean_iou: 0.43 - ETA: 1:40 - loss: 0.4102 - mean_iou: 0.43 - ETA: 1:33 - loss: 0.4113 - mean_iou: 0.43 - ETA: 1:27 - loss: 0.4128 - mean_iou: 0.43 - ETA: 1:20 - loss: 0.4103 - mean_iou: 0.43 - ETA: 1:13 - loss: 0.4089 - mean_iou: 0.43 - ETA: 1:06 - loss: 0.4069 - mean_iou: 0.43 - ETA: 59s - loss: 0.4043 - mean_iou: 0.4321 - ETA: 52s - loss: 0.4040 - mean_iou: 0.432 - ETA: 45s - loss: 0.4034 - mean_iou: 0.432 - ETA: 38s - loss: 0.4024 - mean_iou: 0.432 - ETA: 32s - loss: 0.4030 - mean_iou: 0.432 - ETA: 25s - loss: 0.4009 - mean_iou: 0.432 - ETA: 18s - loss: 0.3990 - mean_iou: 0.432 - ETA: 11s - loss: 0.3992 - mean_iou: 0.432 - ETA: 4s - loss: 0.3993 - mean_iou: 0.432 - 268s 445ms/step - loss: 0.3995 - mean_iou: 0.4321 - val_loss: 0.3836 - val_mean_iou: 0.4322\n",
      "\n",
      "Epoch 00009: val_loss did not improve\n",
      "Epoch 10/50\n",
      "603/603 [==============================] - ETA: 4:13 - loss: 0.4077 - mean_iou: 0.43 - ETA: 4:04 - loss: 0.4079 - mean_iou: 0.43 - ETA: 3:57 - loss: 0.3903 - mean_iou: 0.43 - ETA: 3:50 - loss: 0.3811 - mean_iou: 0.43 - ETA: 3:43 - loss: 0.3856 - mean_iou: 0.43 - ETA: 3:36 - loss: 0.3869 - mean_iou: 0.43 - ETA: 3:29 - loss: 0.3860 - mean_iou: 0.43 - ETA: 3:22 - loss: 0.3868 - mean_iou: 0.43 - ETA: 3:15 - loss: 0.3864 - mean_iou: 0.43 - ETA: 3:09 - loss: 0.3837 - mean_iou: 0.43 - ETA: 3:02 - loss: 0.3873 - mean_iou: 0.43 - ETA: 2:55 - loss: 0.3880 - mean_iou: 0.43 - ETA: 2:48 - loss: 0.3888 - mean_iou: 0.43 - ETA: 2:41 - loss: 0.3918 - mean_iou: 0.43 - ETA: 2:34 - loss: 0.3830 - mean_iou: 0.43 - ETA: 2:28 - loss: 0.3803 - mean_iou: 0.43 - ETA: 2:21 - loss: 0.3848 - mean_iou: 0.43 - ETA: 2:14 - loss: 0.3911 - mean_iou: 0.43 - ETA: 2:07 - loss: 0.3917 - mean_iou: 0.43 - ETA: 2:00 - loss: 0.3915 - mean_iou: 0.43 - ETA: 1:54 - loss: 0.3938 - mean_iou: 0.43 - ETA: 1:47 - loss: 0.3928 - mean_iou: 0.43 - ETA: 1:40 - loss: 0.3963 - mean_iou: 0.43 - ETA: 1:33 - loss: 0.3964 - mean_iou: 0.43 - ETA: 1:26 - loss: 0.3941 - mean_iou: 0.43 - ETA: 1:19 - loss: 0.3981 - mean_iou: 0.43 - ETA: 1:13 - loss: 0.3975 - mean_iou: 0.43 - ETA: 1:06 - loss: 0.3969 - mean_iou: 0.43 - ETA: 59s - loss: 0.4008 - mean_iou: 0.4323 - ETA: 52s - loss: 0.4005 - mean_iou: 0.432 - ETA: 45s - loss: 0.3999 - mean_iou: 0.432 - ETA: 38s - loss: 0.3992 - mean_iou: 0.432 - ETA: 32s - loss: 0.3997 - mean_iou: 0.432 - ETA: 25s - loss: 0.3987 - mean_iou: 0.432 - ETA: 18s - loss: 0.3998 - mean_iou: 0.432 - ETA: 11s - loss: 0.3993 - mean_iou: 0.432 - ETA: 4s - loss: 0.3987 - mean_iou: 0.432 - 268s 445ms/step - loss: 0.3990 - mean_iou: 0.4323 - val_loss: 0.3835 - val_mean_iou: 0.4322\n",
      "\n",
      "Epoch 00010: val_loss did not improve\n",
      "Epoch 11/50\n",
      "603/603 [==============================] - ETA: 4:12 - loss: 0.3547 - mean_iou: 0.43 - ETA: 4:05 - loss: 0.3890 - mean_iou: 0.43 - ETA: 3:57 - loss: 0.4159 - mean_iou: 0.43 - ETA: 3:50 - loss: 0.4046 - mean_iou: 0.43 - ETA: 3:43 - loss: 0.4039 - mean_iou: 0.43 - ETA: 3:36 - loss: 0.3977 - mean_iou: 0.43 - ETA: 3:29 - loss: 0.3964 - mean_iou: 0.43 - ETA: 3:22 - loss: 0.4064 - mean_iou: 0.43 - ETA: 3:15 - loss: 0.4142 - mean_iou: 0.43 - ETA: 3:08 - loss: 0.4055 - mean_iou: 0.43 - ETA: 3:02 - loss: 0.3990 - mean_iou: 0.43 - ETA: 2:55 - loss: 0.4032 - mean_iou: 0.43 - ETA: 2:48 - loss: 0.4032 - mean_iou: 0.43 - ETA: 2:41 - loss: 0.4020 - mean_iou: 0.43 - ETA: 2:34 - loss: 0.4039 - mean_iou: 0.43 - ETA: 2:27 - loss: 0.4032 - mean_iou: 0.43 - ETA: 2:21 - loss: 0.4094 - mean_iou: 0.43 - ETA: 2:14 - loss: 0.4073 - mean_iou: 0.43 - ETA: 2:07 - loss: 0.4045 - mean_iou: 0.43 - ETA: 2:00 - loss: 0.4033 - mean_iou: 0.43 - ETA: 1:53 - loss: 0.4047 - mean_iou: 0.43 - ETA: 1:46 - loss: 0.4007 - mean_iou: 0.43 - ETA: 1:40 - loss: 0.4008 - mean_iou: 0.43 - ETA: 1:33 - loss: 0.3992 - mean_iou: 0.43 - ETA: 1:26 - loss: 0.3949 - mean_iou: 0.43 - ETA: 1:19 - loss: 0.3983 - mean_iou: 0.43 - ETA: 1:12 - loss: 0.3980 - mean_iou: 0.43 - ETA: 1:06 - loss: 0.3962 - mean_iou: 0.43 - ETA: 59s - loss: 0.3954 - mean_iou: 0.4322 - ETA: 52s - loss: 0.3992 - mean_iou: 0.432 - ETA: 45s - loss: 0.4014 - mean_iou: 0.432 - ETA: 38s - loss: 0.3996 - mean_iou: 0.432 - ETA: 31s - loss: 0.4013 - mean_iou: 0.432 - ETA: 25s - loss: 0.4021 - mean_iou: 0.432 - ETA: 18s - loss: 0.3999 - mean_iou: 0.432 - ETA: 11s - loss: 0.3998 - mean_iou: 0.432 - ETA: 4s - loss: 0.4000 - mean_iou: 0.432 - 268s 444ms/step - loss: 0.3993 - mean_iou: 0.4322 - val_loss: 0.3840 - val_mean_iou: 0.4322\n",
      "\n",
      "Epoch 00011: val_loss did not improve\n",
      "Epoch 12/50\n",
      "603/603 [==============================] - ETA: 4:11 - loss: 0.4055 - mean_iou: 0.43 - ETA: 4:03 - loss: 0.4301 - mean_iou: 0.43 - ETA: 3:56 - loss: 0.4179 - mean_iou: 0.43 - ETA: 3:49 - loss: 0.4062 - mean_iou: 0.43 - ETA: 3:42 - loss: 0.3965 - mean_iou: 0.43 - ETA: 3:35 - loss: 0.4071 - mean_iou: 0.43 - ETA: 3:28 - loss: 0.4044 - mean_iou: 0.43 - ETA: 3:22 - loss: 0.3982 - mean_iou: 0.43 - ETA: 3:15 - loss: 0.3892 - mean_iou: 0.43 - ETA: 3:08 - loss: 0.3860 - mean_iou: 0.43 - ETA: 3:01 - loss: 0.3846 - mean_iou: 0.43 - ETA: 2:55 - loss: 0.3859 - mean_iou: 0.43 - ETA: 2:48 - loss: 0.3882 - mean_iou: 0.43 - ETA: 2:41 - loss: 0.3828 - mean_iou: 0.43 - ETA: 2:34 - loss: 0.3926 - mean_iou: 0.43 - ETA: 2:27 - loss: 0.3927 - mean_iou: 0.43 - ETA: 2:21 - loss: 0.3945 - mean_iou: 0.43 - ETA: 2:14 - loss: 0.3894 - mean_iou: 0.43 - ETA: 2:07 - loss: 0.3902 - mean_iou: 0.43 - ETA: 2:00 - loss: 0.3938 - mean_iou: 0.43 - ETA: 1:53 - loss: 0.3966 - mean_iou: 0.43 - ETA: 1:47 - loss: 0.3943 - mean_iou: 0.43 - ETA: 1:40 - loss: 0.3997 - mean_iou: 0.43 - ETA: 1:33 - loss: 0.3982 - mean_iou: 0.43 - ETA: 1:26 - loss: 0.4009 - mean_iou: 0.43 - ETA: 1:19 - loss: 0.4053 - mean_iou: 0.43 - ETA: 1:12 - loss: 0.4044 - mean_iou: 0.43 - ETA: 1:06 - loss: 0.4040 - mean_iou: 0.43 - ETA: 59s - loss: 0.4053 - mean_iou: 0.4322 - ETA: 52s - loss: 0.4047 - mean_iou: 0.432 - ETA: 45s - loss: 0.4043 - mean_iou: 0.432 - ETA: 38s - loss: 0.4031 - mean_iou: 0.432 - ETA: 32s - loss: 0.4045 - mean_iou: 0.432 - ETA: 25s - loss: 0.4036 - mean_iou: 0.432 - ETA: 18s - loss: 0.4044 - mean_iou: 0.432 - ETA: 11s - loss: 0.4042 - mean_iou: 0.432 - ETA: 4s - loss: 0.4018 - mean_iou: 0.432 - 268s 444ms/step - loss: 0.3994 - mean_iou: 0.4322 - val_loss: 0.3850 - val_mean_iou: 0.4322\n",
      "\n",
      "Epoch 00012: val_loss did not improve\n",
      "Epoch 13/50\n"
     ]
    },
    {
     "name": "stdout",
     "output_type": "stream",
     "text": [
      "603/603 [==============================] - ETA: 4:11 - loss: 0.3783 - mean_iou: 0.43 - ETA: 4:04 - loss: 0.4189 - mean_iou: 0.43 - ETA: 3:57 - loss: 0.4266 - mean_iou: 0.43 - ETA: 3:50 - loss: 0.4257 - mean_iou: 0.43 - ETA: 3:43 - loss: 0.4341 - mean_iou: 0.43 - ETA: 3:36 - loss: 0.4343 - mean_iou: 0.43 - ETA: 3:29 - loss: 0.4298 - mean_iou: 0.43 - ETA: 3:22 - loss: 0.4291 - mean_iou: 0.43 - ETA: 3:15 - loss: 0.4222 - mean_iou: 0.43 - ETA: 3:08 - loss: 0.4175 - mean_iou: 0.43 - ETA: 3:01 - loss: 0.4110 - mean_iou: 0.43 - ETA: 2:54 - loss: 0.4332 - mean_iou: 0.43 - ETA: 2:48 - loss: 0.4290 - mean_iou: 0.43 - ETA: 2:41 - loss: 0.4294 - mean_iou: 0.43 - ETA: 2:34 - loss: 0.4264 - mean_iou: 0.43 - ETA: 2:27 - loss: 0.4658 - mean_iou: 0.43 - ETA: 2:20 - loss: 0.4767 - mean_iou: 0.43 - ETA: 2:14 - loss: 0.4887 - mean_iou: 0.43 - ETA: 2:07 - loss: 0.4957 - mean_iou: 0.43 - ETA: 2:00 - loss: 0.4942 - mean_iou: 0.43 - ETA: 1:53 - loss: 0.4923 - mean_iou: 0.43 - ETA: 1:46 - loss: 0.4889 - mean_iou: 0.43 - ETA: 1:40 - loss: 0.4856 - mean_iou: 0.43 - ETA: 1:33 - loss: 0.4801 - mean_iou: 0.43 - ETA: 1:26 - loss: 0.4759 - mean_iou: 0.43 - ETA: 1:19 - loss: 0.4716 - mean_iou: 0.43 - ETA: 1:12 - loss: 0.4691 - mean_iou: 0.43 - ETA: 1:06 - loss: 0.4657 - mean_iou: 0.43 - ETA: 59s - loss: 0.4639 - mean_iou: 0.4322 - ETA: 52s - loss: 0.4615 - mean_iou: 0.432 - ETA: 45s - loss: 0.4587 - mean_iou: 0.432 - ETA: 38s - loss: 0.4574 - mean_iou: 0.432 - ETA: 31s - loss: 0.4571 - mean_iou: 0.432 - ETA: 25s - loss: 0.4541 - mean_iou: 0.432 - ETA: 18s - loss: 0.4534 - mean_iou: 0.432 - ETA: 11s - loss: 0.4519 - mean_iou: 0.432 - ETA: 4s - loss: 0.4489 - mean_iou: 0.432 - 269s 446ms/step - loss: 0.4483 - mean_iou: 0.4322 - val_loss: 0.3837 - val_mean_iou: 0.4323\n",
      "\n",
      "Epoch 00013: val_loss did not improve\n",
      "Epoch 00013: early stopping\n"
     ]
    }
   ],
   "source": [
    "# Fit model\n",
    "earlystopper = EarlyStopping(patience=5, verbose=1)\n",
    "checkpointer = ModelCheckpoint('model-dsbowl2018-03-30-1.h5', verbose=1, save_best_only=True)\n",
    "results = model.fit(X_train, Y_train, validation_split=0.1, batch_size=16, epochs=50, \n",
    "                    callbacks=[earlystopper, checkpointer])"
   ]
  },
  {
   "cell_type": "code",
   "execution_count": 35,
   "metadata": {},
   "outputs": [
    {
     "name": "stdout",
     "output_type": "stream",
     "text": [
      "603/603 [==============================] - ETA: 1: - ETA: 1: - ETA: 1: - ETA: 1: - ETA: 1: - ETA: 56s - ETA: 52 - ETA: 47 - ETA: 43 - ETA: 38 - ETA: 34 - ETA: 30 - ETA: 25 - ETA: 21 - ETA: 17 - ETA: 12 - ETA: 8 - ETA:  - 83s 138ms/step\n",
      "67/67 [==============================] - ETA:  - ETA:  - 9s 134ms/step\n",
      "65/65 [==============================] - ETA:  - ETA:  - 9s 134ms/step\n"
     ]
    }
   ],
   "source": [
    "# Predict on train, val and test\n",
    "model = load_model('model-dsbowl2018-03-30-1.h5', custom_objects={'mean_iou': mean_iou})\n",
    "preds_train = model.predict(X_train[:int(X_train.shape[0]*0.9)], verbose=1)\n",
    "preds_val = model.predict(X_train[int(X_train.shape[0]*0.9):], verbose=1)\n",
    "preds_test = model.predict(X_test, verbose=1)\n",
    "\n",
    "# Threshold predictions\n",
    "preds_train_t = (preds_train > 0.5).astype(np.uint8)\n",
    "preds_val_t = (preds_val > 0.5).astype(np.uint8)\n",
    "preds_test_t = (preds_test > 0.5).astype(np.uint8)\n",
    "\n",
    "def cutout(img, shape):\n",
    "    new_img = np.zeros(shape)\n",
    "    for i in range(shape[0]):\n",
    "        for j in range(shape[1]):\n",
    "            new_img[i, j] = img[i, j]\n",
    "    return new_img\n",
    "\n",
    "# Create list of upsampled test masks\n",
    "preds_test_upsampled = []\n",
    "for i in range(len(preds_test)):\n",
    "    dim = max([sizes_test[i][0], sizes_test[i][1]])\n",
    "    preds_test_upsampled.append(cutout(resize(np.squeeze(preds_test[i]), (dim, dim)), \n",
    "                                       (sizes_test[i][0], sizes_test[i][1])))"
   ]
  },
  {
   "cell_type": "code",
   "execution_count": 36,
   "metadata": {},
   "outputs": [
    {
     "name": "stderr",
     "output_type": "stream",
     "text": [
      "C:\\Program Files\\Anaconda3\\lib\\site-packages\\skimage\\io\\_plugins\\matplotlib_plugin.py:51: FutureWarning: Conversion of the second argument of issubdtype from `float` to `np.floating` is deprecated. In future, it will be treated as `np.float64 == np.dtype(float).type`.\n",
      "  out_of_range_float = (np.issubdtype(image.dtype, np.float) and\n"
     ]
    },
    {
     "data": {
      "image/png": "[encoded data removed]",
      "text/plain": [
       "<matplotlib.figure.Figure at 0x1d19408ef28>"
      ]
     },
     "metadata": {},
     "output_type": "display_data"
    },
    {
     "data": {
      "image/png": "[encoded data removed]",
      "text/plain": [
       "<matplotlib.figure.Figure at 0x1d19a77aeb8>"
      ]
     },
     "metadata": {},
     "output_type": "display_data"
    },
    {
     "data": {
      "image/png": "[encoded data removed]",
      "text/plain": [
       "<matplotlib.figure.Figure at 0x1d181005b70>"
      ]
     },
     "metadata": {},
     "output_type": "display_data"
    }
   ],
   "source": [
    "# Perform a sanity check on some random training samples\n",
    "ix = random.randint(0, len(preds_train_t))\n",
    "imshow(X_train[ix])\n",
    "plt.show()\n",
    "imshow(np.squeeze(Y_train[ix]))\n",
    "plt.show()\n",
    "imshow(np.squeeze(preds_train_t[ix]))\n",
    "plt.show()"
   ]
  },
  {
   "cell_type": "code",
   "execution_count": 37,
   "metadata": {},
   "outputs": [
    {
     "name": "stderr",
     "output_type": "stream",
     "text": [
      "C:\\Program Files\\Anaconda3\\lib\\site-packages\\skimage\\io\\_plugins\\matplotlib_plugin.py:51: FutureWarning: Conversion of the second argument of issubdtype from `float` to `np.floating` is deprecated. In future, it will be treated as `np.float64 == np.dtype(float).type`.\n",
      "  out_of_range_float = (np.issubdtype(image.dtype, np.float) and\n"
     ]
    },
    {
     "data": {
      "image/png": "[encoded data removed]",
      "text/plain": [
       "<matplotlib.figure.Figure at 0x1d193826f60>"
      ]
     },
     "metadata": {},
     "output_type": "display_data"
    },
    {
     "data": {
      "image/png": "[encoded data removed]",
      "text/plain": [
       "<matplotlib.figure.Figure at 0x1d1a32b3cc0>"
      ]
     },
     "metadata": {},
     "output_type": "display_data"
    },
    {
     "data": {
      "image/png": "[encoded data removed]",
      "text/plain": [
       "<matplotlib.figure.Figure at 0x1d1a3402ef0>"
      ]
     },
     "metadata": {},
     "output_type": "display_data"
    }
   ],
   "source": [
    "# Perform a sanity check on some random validation samples\n",
    "ix = random.randint(0, len(preds_val_t))\n",
    "imshow(X_train[int(X_train.shape[0]*0.9):][ix])\n",
    "plt.show()\n",
    "imshow(np.squeeze(Y_train[int(Y_train.shape[0]*0.9):][ix]))\n",
    "plt.show()\n",
    "imshow(np.squeeze(preds_val_t[ix]))\n",
    "plt.show()"
   ]
  },
  {
   "cell_type": "code",
   "execution_count": null,
   "metadata": {
    "collapsed": true
   },
   "outputs": [],
   "source": [
    "# Run-length encoding stolen from https://www.kaggle.com/rakhlin/fast-run-length-encoding-python\n",
    "def rle_encoding(x):\n",
    "    dots = np.where(x.T.flatten() == 1)[0]\n",
    "    run_lengths = []\n",
    "    prev = -2\n",
    "    for b in dots:\n",
    "        if (b>prev+1): run_lengths.extend((b + 1, 0))\n",
    "        run_lengths[-1] += 1\n",
    "        prev = b\n",
    "    return run_lengths\n",
    "\n",
    "def prob_to_rles(x, cutoff=0.5):\n",
    "    lab_img = label(x > cutoff)\n",
    "    for i in range(1, lab_img.max() + 1):\n",
    "        yield rle_encoding(lab_img == i)\n",
    "\n",
    "new_test_ids = []\n",
    "rles = []\n",
    "for n, id_ in enumerate(test_ids):\n",
    "    rle = list(prob_to_rles(preds_test_upsampled[n]))\n",
    "    rles.extend(rle)\n",
    "    new_test_ids.extend([id_] * len(rle))"
   ]
  },
  {
   "cell_type": "code",
   "execution_count": null,
   "metadata": {
    "collapsed": true
   },
   "outputs": [],
   "source": [
    "# Create submission DataFrame\n",
    "sub = pd.DataFrame()\n",
    "sub['ImageId'] = new_test_ids\n",
    "sub['EncodedPixels'] = pd.Series(rles).apply(lambda x: ' '.join(str(y) for y in x))\n",
    "sub.to_csv('submission_ds_bowl_2018_3_30_1.csv', index=False)"
   ]
  },
  {
   "cell_type": "code",
   "execution_count": null,
   "metadata": {
    "collapsed": true
   },
   "outputs": [],
   "source": []
  }
 ],
 "metadata": {
  "kernelspec": {
   "display_name": "Python 3",
   "language": "python",
   "name": "python3"
  },
  "language_info": {
   "codemirror_mode": {
    "name": "ipython",
    "version": 3
   },
   "file_extension": ".py",
   "mimetype": "text/x-python",
   "name": "python",
   "nbconvert_exporter": "python",
   "pygments_lexer": "ipython3",
   "version": "3.6.1"
  }
 },
 "nbformat": 4,
 "nbformat_minor": 2
}
